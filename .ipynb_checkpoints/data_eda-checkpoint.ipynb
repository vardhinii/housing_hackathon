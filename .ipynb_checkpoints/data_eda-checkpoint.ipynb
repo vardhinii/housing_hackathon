{
 "cells": [
  {
   "cell_type": "markdown",
   "metadata": {},
   "source": [
    "## ***Exploratory Data Analysis***\n",
    "*The cleaned and merged dataset `property_data.csv` and already given `property_interactions.csv` is used for Exploratory Data Analysis (EDA). The EDA answers the following questions listed below.*"
   ]
  },
  {
   "cell_type": "code",
   "execution_count": 1,
   "metadata": {},
   "outputs": [],
   "source": [
    "#import libraries for exploratory_data_analysis task\n",
    "import pandas as pd\n",
    "import numpy as np"
   ]
  },
  {
   "cell_type": "markdown",
   "metadata": {},
   "source": [
    "*Import the dataset `property_data.csv` and proceed with EDA*"
   ]
  },
  {
   "cell_type": "code",
   "execution_count": 66,
   "metadata": {},
   "outputs": [
    {
     "data": {
      "text/html": [
       "<div>\n",
       "<style scoped>\n",
       "    .dataframe tbody tr th:only-of-type {\n",
       "        vertical-align: middle;\n",
       "    }\n",
       "\n",
       "    .dataframe tbody tr th {\n",
       "        vertical-align: top;\n",
       "    }\n",
       "\n",
       "    .dataframe thead th {\n",
       "        text-align: right;\n",
       "    }\n",
       "</style>\n",
       "<table border=\"1\" class=\"dataframe\">\n",
       "  <thead>\n",
       "    <tr style=\"text-align: right;\">\n",
       "      <th></th>\n",
       "      <th>property_id</th>\n",
       "      <th>type</th>\n",
       "      <th>activation_date</th>\n",
       "      <th>bathroom</th>\n",
       "      <th>floor</th>\n",
       "      <th>total_floor</th>\n",
       "      <th>furnishing</th>\n",
       "      <th>gym</th>\n",
       "      <th>latitude</th>\n",
       "      <th>longitude</th>\n",
       "      <th>...</th>\n",
       "      <th>lift</th>\n",
       "      <th>location</th>\n",
       "      <th>parking</th>\n",
       "      <th>property_age</th>\n",
       "      <th>property_size</th>\n",
       "      <th>swimming_pool</th>\n",
       "      <th>pin_code</th>\n",
       "      <th>rent</th>\n",
       "      <th>deposit</th>\n",
       "      <th>building_type</th>\n",
       "    </tr>\n",
       "  </thead>\n",
       "  <tbody>\n",
       "    <tr>\n",
       "      <th>14093</th>\n",
       "      <td>ff8081815b106986015b14e6d29703dc</td>\n",
       "      <td>BHK2</td>\n",
       "      <td>28-03-2017 19:08</td>\n",
       "      <td>2</td>\n",
       "      <td>1</td>\n",
       "      <td>1.0</td>\n",
       "      <td>SEMI_FURNISHED</td>\n",
       "      <td>0</td>\n",
       "      <td>12.911663</td>\n",
       "      <td>77.632332</td>\n",
       "      <td>...</td>\n",
       "      <td>0</td>\n",
       "      <td>hsr layout</td>\n",
       "      <td>TWO_WHEELER</td>\n",
       "      <td>1</td>\n",
       "      <td>900</td>\n",
       "      <td>0</td>\n",
       "      <td>560102.0</td>\n",
       "      <td>15000</td>\n",
       "      <td>50000</td>\n",
       "      <td>IF</td>\n",
       "    </tr>\n",
       "    <tr>\n",
       "      <th>14094</th>\n",
       "      <td>ff8081815b106c7d015b15d12a4039c9</td>\n",
       "      <td>BHK2</td>\n",
       "      <td>29-03-2017 11:43</td>\n",
       "      <td>2</td>\n",
       "      <td>2</td>\n",
       "      <td>4.0</td>\n",
       "      <td>SEMI_FURNISHED</td>\n",
       "      <td>0</td>\n",
       "      <td>12.908888</td>\n",
       "      <td>77.646482</td>\n",
       "      <td>...</td>\n",
       "      <td>0</td>\n",
       "      <td>hsr layout</td>\n",
       "      <td>BOTH</td>\n",
       "      <td>3</td>\n",
       "      <td>900</td>\n",
       "      <td>0</td>\n",
       "      <td>560102.0</td>\n",
       "      <td>19000</td>\n",
       "      <td>150000</td>\n",
       "      <td>AP</td>\n",
       "    </tr>\n",
       "    <tr>\n",
       "      <th>14095</th>\n",
       "      <td>ff8081815b15c304015b18bae9780193</td>\n",
       "      <td>BHK3</td>\n",
       "      <td>29-03-2017 12:17</td>\n",
       "      <td>2</td>\n",
       "      <td>1</td>\n",
       "      <td>3.0</td>\n",
       "      <td>SEMI_FURNISHED</td>\n",
       "      <td>0</td>\n",
       "      <td>12.907021</td>\n",
       "      <td>77.630959</td>\n",
       "      <td>...</td>\n",
       "      <td>0</td>\n",
       "      <td>hsr layout</td>\n",
       "      <td>BOTH</td>\n",
       "      <td>6</td>\n",
       "      <td>1310</td>\n",
       "      <td>0</td>\n",
       "      <td>560068.0</td>\n",
       "      <td>20000</td>\n",
       "      <td>150000</td>\n",
       "      <td>AP</td>\n",
       "    </tr>\n",
       "    <tr>\n",
       "      <th>14096</th>\n",
       "      <td>ff8081815b1e90e8015b1ea2f9c60894</td>\n",
       "      <td>BHK1</td>\n",
       "      <td>30-03-2017 15:34</td>\n",
       "      <td>1</td>\n",
       "      <td>3</td>\n",
       "      <td>3.0</td>\n",
       "      <td>SEMI_FURNISHED</td>\n",
       "      <td>0</td>\n",
       "      <td>12.908896</td>\n",
       "      <td>77.637052</td>\n",
       "      <td>...</td>\n",
       "      <td>0</td>\n",
       "      <td>hsr layout</td>\n",
       "      <td>TWO_WHEELER</td>\n",
       "      <td>2</td>\n",
       "      <td>450</td>\n",
       "      <td>0</td>\n",
       "      <td>560102.0</td>\n",
       "      <td>14000</td>\n",
       "      <td>100000</td>\n",
       "      <td>IF</td>\n",
       "    </tr>\n",
       "    <tr>\n",
       "      <th>14097</th>\n",
       "      <td>ff8081815b1ebf9e015b1f4060cc36b7</td>\n",
       "      <td>BHK1</td>\n",
       "      <td>30-03-2017 18:23</td>\n",
       "      <td>1</td>\n",
       "      <td>0</td>\n",
       "      <td>2.0</td>\n",
       "      <td>SEMI_FURNISHED</td>\n",
       "      <td>0</td>\n",
       "      <td>12.907992</td>\n",
       "      <td>77.644734</td>\n",
       "      <td>...</td>\n",
       "      <td>0</td>\n",
       "      <td>hsr layout</td>\n",
       "      <td>TWO_WHEELER</td>\n",
       "      <td>7</td>\n",
       "      <td>600</td>\n",
       "      <td>0</td>\n",
       "      <td>560102.0</td>\n",
       "      <td>12000</td>\n",
       "      <td>70000</td>\n",
       "      <td>IF</td>\n",
       "    </tr>\n",
       "  </tbody>\n",
       "</table>\n",
       "<p>5 rows × 21 columns</p>\n",
       "</div>"
      ],
      "text/plain": [
       "                            property_id  type   activation_date  bathroom  \\\n",
       "14093  ff8081815b106986015b14e6d29703dc  BHK2  28-03-2017 19:08         2   \n",
       "14094  ff8081815b106c7d015b15d12a4039c9  BHK2  29-03-2017 11:43         2   \n",
       "14095  ff8081815b15c304015b18bae9780193  BHK3  29-03-2017 12:17         2   \n",
       "14096  ff8081815b1e90e8015b1ea2f9c60894  BHK1  30-03-2017 15:34         1   \n",
       "14097  ff8081815b1ebf9e015b1f4060cc36b7  BHK1  30-03-2017 18:23         1   \n",
       "\n",
       "       floor  total_floor      furnishing gym   latitude  longitude  ... lift  \\\n",
       "14093      1          1.0  SEMI_FURNISHED   0  12.911663  77.632332  ...    0   \n",
       "14094      2          4.0  SEMI_FURNISHED   0  12.908888  77.646482  ...    0   \n",
       "14095      1          3.0  SEMI_FURNISHED   0  12.907021  77.630959  ...    0   \n",
       "14096      3          3.0  SEMI_FURNISHED   0  12.908896  77.637052  ...    0   \n",
       "14097      0          2.0  SEMI_FURNISHED   0  12.907992  77.644734  ...    0   \n",
       "\n",
       "         location      parking property_age  property_size  swimming_pool  \\\n",
       "14093  hsr layout  TWO_WHEELER            1            900              0   \n",
       "14094  hsr layout         BOTH            3            900              0   \n",
       "14095  hsr layout         BOTH            6           1310              0   \n",
       "14096  hsr layout  TWO_WHEELER            2            450              0   \n",
       "14097  hsr layout  TWO_WHEELER            7            600              0   \n",
       "\n",
       "       pin_code   rent  deposit  building_type  \n",
       "14093  560102.0  15000    50000             IF  \n",
       "14094  560102.0  19000   150000             AP  \n",
       "14095  560068.0  20000   150000             AP  \n",
       "14096  560102.0  14000   100000             IF  \n",
       "14097  560102.0  12000    70000             IF  \n",
       "\n",
       "[5 rows x 21 columns]"
      ]
     },
     "execution_count": 66,
     "metadata": {},
     "output_type": "execute_result"
    }
   ],
   "source": [
    "#import the file `property_data.csv` from dataset\n",
    "df = pd.read_csv(\"dataset/property_data.csv\")\n",
    "\n",
    "#since location column contains extra spaces and both lower and upper cases, all the sentences are converted to lower case for analysis \n",
    "df['location'] = df['location'].str.lower()\n",
    "df['location'] = df['location'].str.strip()\n",
    "\n",
    "#to visualize bottom sample of the dataset\n",
    "df.tail()"
   ]
  },
  {
   "cell_type": "markdown",
   "metadata": {},
   "source": [
    "## ***Question 1***\n",
    "*What is the final shape of the combined property data after properly merging (without invalid columns) all location CSV files?*"
   ]
  },
  {
   "cell_type": "code",
   "execution_count": 73,
   "metadata": {},
   "outputs": [
    {
     "name": "stdout",
     "output_type": "stream",
     "text": [
      "Shape of Combined Dataset: (14098, 21)\n"
     ]
    }
   ],
   "source": [
    "#shape obtained through .shape method\n",
    "print(f\"Shape of Combined Dataset: {df.shape}\")"
   ]
  },
  {
   "cell_type": "markdown",
   "metadata": {},
   "source": [
    "## ***Question 2***\n",
    "*What percentage of properties are located in HSR Layout?*"
   ]
  },
  {
   "cell_type": "code",
   "execution_count": 78,
   "metadata": {},
   "outputs": [
    {
     "name": "stdout",
     "output_type": "stream",
     "text": [
      "Percentage of properties located in HSR Layout: 3.1%\n"
     ]
    }
   ],
   "source": [
    "#find percentage of HSR_Layout properties\n",
    "percentage_hsr_layout = (df[df['location'] == 'hsr layout'].shape[0] / df.shape[0]) * 100\n",
    "print(f\"Percentage of properties located in HSR Layout: {percentage_hsr_layout:.1f}%\")"
   ]
  },
  {
   "cell_type": "markdown",
   "metadata": {},
   "source": [
    "## ***Question 3***\n",
    "*What is the number of unique locations?*"
   ]
  },
  {
   "cell_type": "code",
   "execution_count": 79,
   "metadata": {},
   "outputs": [
    {
     "name": "stdout",
     "output_type": "stream",
     "text": [
      "Total Unique Locations: 64\n"
     ]
    }
   ],
   "source": [
    "#find number of unique locations using nunique\n",
    "unique_locations = df['location'].nunique()\n",
    "print(f\"Total Unique Locations: {unique_locations}\")"
   ]
  },
  {
   "cell_type": "markdown",
   "metadata": {},
   "source": [
    "## ***Question 4***\n",
    "*Find Locality with the highest average rent?*"
   ]
  },
  {
   "cell_type": "code",
   "execution_count": 80,
   "metadata": {},
   "outputs": [
    {
     "name": "stdout",
     "output_type": "stream",
     "text": [
      "Locality with the highest average rent: bellandur\n"
     ]
    }
   ],
   "source": [
    "#group the dataset by location and calucalte mean rent\n",
    "average_rent_per_locality = df.groupby('location')['rent'].mean()\n",
    "\n",
    "#retrive the id of the maximum mean value\n",
    "highest_avg_rent_locality = average_rent_per_locality.idxmax()\n",
    "print(f\"Locality with the highest average rent: {highest_avg_rent_locality}\")"
   ]
  },
  {
   "cell_type": "markdown",
   "metadata": {},
   "source": [
    "## ***Question 5***\n",
    "*Which Feature is having the highest correlation with rent?*"
   ]
  },
  {
   "cell_type": "code",
   "execution_count": 81,
   "metadata": {},
   "outputs": [
    {
     "name": "stdout",
     "output_type": "stream",
     "text": [
      "The feature with the highest correlation with rent : bathroom\n"
     ]
    }
   ],
   "source": [
    "#define the required features as a list\n",
    "features = ['bathroom', 'property_age', 'property_size', 'deposit']\n",
    "\n",
    "#define corealtion with `rent` column\n",
    "correlation = df[features].corrwith(df['rent'])\n",
    "\n",
    "#retrive the id of the maximum correlation value\n",
    "highest_corr_feature = correlation.idxmax()\n",
    "print(f\"The feature with the highest correlation with rent : {highest_corr_feature}\")"
   ]
  },
  {
   "cell_type": "markdown",
   "metadata": {},
   "source": [
    "## ***Question 6***\n",
    "*Create a property_age_category feature by categorizing properties based on the following age criteria:*\n",
    "- *0-1 years: New*\n",
    "- *1-5 years: Less than 5 years*\n",
    "- *5-10 years: 5 to 10 years*\n",
    "- *10-20 years: 10 to 20 years*\n",
    "- *20+: more than 20 years*\n",
    "- \n",
    "*Then, identify the most frequent category.*"
   ]
  },
  {
   "cell_type": "code",
   "execution_count": 83,
   "metadata": {},
   "outputs": [
    {
     "name": "stdout",
     "output_type": "stream",
     "text": [
      "   property_age property_age_category\n",
      "0             1     Less than 5 years\n",
      "1             2     Less than 5 years\n",
      "2             7         5 to 10 years\n",
      "3            10        10 to 20 years\n",
      "4             0                   New\n",
      "\n",
      "\n",
      "The most frequent category: Less than 5 years\n"
     ]
    }
   ],
   "source": [
    "#define required bins and lables according to problem statement\n",
    "bins = [0, 1, 5, 10, 20, float('inf')]\n",
    "labels = ['New', 'Less than 5 years', '5 to 10 years', '10 to 20 years', 'More than 20 years']\n",
    "\n",
    "#create new column `property_age_category` based on the bins and labels\n",
    "df['property_age_category'] = pd.cut(df['property_age'], bins=bins, labels=labels, right=False)\n",
    "print(df[['property_age', 'property_age_category']].head())\n",
    "\n",
    "#count the values in each category\n",
    "category_counts = df['property_age_category'].value_counts()\n",
    "\n",
    "#retrive the id of most frequent category\n",
    "most_frequent_category = category_counts.idxmax()\n",
    "print(\"\\n\")\n",
    "print(f\"The most frequent category: {most_frequent_category}\")"
   ]
  },
  {
   "cell_type": "markdown",
   "metadata": {},
   "source": [
    "## ***Question 7***\n",
    "*Which amenity gym, lift, or swimming pool has the greatest impact on rent?*"
   ]
  },
  {
   "cell_type": "code",
   "execution_count": 85,
   "metadata": {},
   "outputs": [
    {
     "name": "stdout",
     "output_type": "stream",
     "text": [
      "The amenity with the greatest impact on rent: lift\n"
     ]
    }
   ],
   "source": [
    "#convert the boolean values to integer values for identifying corealation\n",
    "df['gym'] = df['gym'].apply(lambda x: 1 if x == True or x == 'True' else 0)\n",
    "df['lift'] = df['lift'].apply(lambda x: 1 if x == True or x == 'True' else 0)\n",
    "df['swimming_pool'] = df['swimming_pool'].apply(lambda x: 1 if x == True or x == 'True' else 0)\n",
    "\n",
    "#define amenities list for identifying corelation\n",
    "amenities = ['gym', 'lift', 'swimming_pool']\n",
    "\n",
    "#find corelation with `rent` column\n",
    "correlation_with_rent = df[amenities].corrwith(df['rent'])\n",
    "\n",
    "#retrive the id of the highest corelation value\n",
    "highest_impact_amenity = correlation_with_rent.idxmax()\n",
    "print(f\"The amenity with the greatest impact on rent: {highest_impact_amenity}\")"
   ]
  },
  {
   "cell_type": "markdown",
   "metadata": {},
   "source": [
    "*Import the dataset `property_interactions.csv` and proceed with EDA*"
   ]
  },
  {
   "cell_type": "code",
   "execution_count": 39,
   "metadata": {},
   "outputs": [
    {
     "data": {
      "text/html": [
       "<div>\n",
       "<style scoped>\n",
       "    .dataframe tbody tr th:only-of-type {\n",
       "        vertical-align: middle;\n",
       "    }\n",
       "\n",
       "    .dataframe tbody tr th {\n",
       "        vertical-align: top;\n",
       "    }\n",
       "\n",
       "    .dataframe thead th {\n",
       "        text-align: right;\n",
       "    }\n",
       "</style>\n",
       "<table border=\"1\" class=\"dataframe\">\n",
       "  <thead>\n",
       "    <tr style=\"text-align: right;\">\n",
       "      <th></th>\n",
       "      <th>property_id</th>\n",
       "      <th>request_date</th>\n",
       "    </tr>\n",
       "  </thead>\n",
       "  <tbody>\n",
       "    <tr>\n",
       "      <th>0</th>\n",
       "      <td>ff808081469fd6e20146a5af948000ea</td>\n",
       "      <td>2017-03-10 17:42:34</td>\n",
       "    </tr>\n",
       "    <tr>\n",
       "      <th>1</th>\n",
       "      <td>ff808081469fd6e20146a5af948000ea</td>\n",
       "      <td>2017-03-09 15:51:17</td>\n",
       "    </tr>\n",
       "    <tr>\n",
       "      <th>2</th>\n",
       "      <td>ff808081469fd6e20146a5af948000ea</td>\n",
       "      <td>2017-03-10 17:30:22</td>\n",
       "    </tr>\n",
       "    <tr>\n",
       "      <th>3</th>\n",
       "      <td>ff808081469fd6e20146a5af948000ea</td>\n",
       "      <td>2017-03-11 17:48:46</td>\n",
       "    </tr>\n",
       "    <tr>\n",
       "      <th>4</th>\n",
       "      <td>ff8080814702d3d10147068359d200cd</td>\n",
       "      <td>2017-03-30 19:59:15</td>\n",
       "    </tr>\n",
       "  </tbody>\n",
       "</table>\n",
       "</div>"
      ],
      "text/plain": [
       "                        property_id         request_date\n",
       "0  ff808081469fd6e20146a5af948000ea  2017-03-10 17:42:34\n",
       "1  ff808081469fd6e20146a5af948000ea  2017-03-09 15:51:17\n",
       "2  ff808081469fd6e20146a5af948000ea  2017-03-10 17:30:22\n",
       "3  ff808081469fd6e20146a5af948000ea  2017-03-11 17:48:46\n",
       "4  ff8080814702d3d10147068359d200cd  2017-03-30 19:59:15"
      ]
     },
     "execution_count": 39,
     "metadata": {},
     "output_type": "execute_result"
    }
   ],
   "source": [
    "#import the file `property_interactions.csv` from dataset\n",
    "df2 = pd.read_csv('dataset/property_interactions.csv')\n",
    "df2.head()"
   ]
  },
  {
   "cell_type": "code",
   "execution_count": 86,
   "metadata": {},
   "outputs": [
    {
     "name": "stdout",
     "output_type": "stream",
     "text": [
      "                        property_id         request_date   activation_date  \\\n",
      "0  ff808081469fd6e20146a5af948000ea  2017-03-10 17:42:34  09-03-2017 14:36   \n",
      "1  ff808081469fd6e20146a5af948000ea  2017-03-09 15:51:17  09-03-2017 14:36   \n",
      "2  ff808081469fd6e20146a5af948000ea  2017-03-10 17:30:22  09-03-2017 14:36   \n",
      "3  ff808081469fd6e20146a5af948000ea  2017-03-11 17:48:46  09-03-2017 14:36   \n",
      "4  ff8080814702d3d10147068359d200cd  2017-03-30 19:59:15  07-03-2017 12:02   \n",
      "\n",
      "  building_type  type  \n",
      "0            AP  BHK2  \n",
      "1            AP  BHK2  \n",
      "2            AP  BHK2  \n",
      "3            AP  BHK2  \n",
      "4            AP  BHK2  \n"
     ]
    }
   ],
   "source": [
    "#merge the columns `activation_date`, `building_type` and `type` from df to df2\n",
    "merged_df = pd.merge(df2, df[['property_id', 'activation_date', 'building_type', 'type']], on='property_id', how='left')\n",
    "print(merged_df.head())"
   ]
  },
  {
   "cell_type": "markdown",
   "metadata": {},
   "source": [
    "## ***Question 8***\n",
    "*What is the total number of interactions received by the majority of the properties within 7 days of activation?*"
   ]
  },
  {
   "cell_type": "code",
   "execution_count": 87,
   "metadata": {},
   "outputs": [
    {
     "data": {
      "text/plain": [
       "np.float64(4.0)"
      ]
     },
     "execution_count": 87,
     "metadata": {},
     "output_type": "execute_result"
    }
   ],
   "source": [
    "#convert the columns `activation_date` and `request_date` to datetime format\n",
    "merged_df['activation_date'] = pd.to_datetime(merged_df['activation_date'], errors='coerce')\n",
    "merged_df['request_date'] = pd.to_datetime(merged_df['request_date'], errors='coerce')\n",
    "\n",
    "#find the date difference\n",
    "merged_df['days_diff'] = (merged_df['request_date'] - merged_df['activation_date']).dt.days\n",
    "\n",
    "#find the interactions that happened within 7 days (date_diff < 7)\n",
    "interactions_within_7_days = merged_df[merged_df['days_diff'] <= 7]\n",
    "\n",
    "#group and count interactions by their size\n",
    "interaction_count = interactions_within_7_days.groupby('property_id').size()\n",
    "\n",
    "#retrive the median interaction value (majority interactions)\n",
    "interaction_count.median()"
   ]
  },
  {
   "cell_type": "markdown",
   "metadata": {},
   "source": [
    "## ***Question 9***\n",
    "*Find the apartment type with the highest average interactions.*"
   ]
  },
  {
   "cell_type": "code",
   "execution_count": 88,
   "metadata": {},
   "outputs": [
    {
     "data": {
      "text/plain": [
       "type\n",
       "BHK1         4310\n",
       "BHK2        19395\n",
       "BHK3         6572\n",
       "BHK4          164\n",
       "BHK4PLUS       12\n",
       "RK1          1041\n",
       "Name: request_date, dtype: int64"
      ]
     },
     "execution_count": 88,
     "metadata": {},
     "output_type": "execute_result"
    }
   ],
   "source": [
    "#group dataset by apartment type and count interactions\n",
    "merged_df[merged_df['building_type'] == 'AP'].groupby('type')['request_date'].count()"
   ]
  },
  {
   "cell_type": "markdown",
   "metadata": {},
   "source": [
    "## ***Question 10***\n",
    "*Identify the highest interaction counts for properties in the top 5 localities with the highest average rent.*"
   ]
  },
  {
   "cell_type": "code",
   "execution_count": 89,
   "metadata": {},
   "outputs": [
    {
     "name": "stdout",
     "output_type": "stream",
     "text": [
      "Location of Property with highest interaction count: bellandur\n"
     ]
    }
   ],
   "source": [
    "#identify and group top locations by rent\n",
    "top_localities = df.groupby('location')['rent'].mean().nlargest(5).index\n",
    "df_top_localities = df[df['location'].isin(top_localities)]\n",
    "\n",
    "#create new dataframe for top_localities and group by property_id\n",
    "merged_df2 = pd.merge(df_top_localities, df2, on='property_id', how='left')\n",
    "interaction_counts = merged_df2.groupby('property_id').size()\n",
    "\n",
    "#identidy the id for property with highest interaction\n",
    "property_high_count = interaction_counts.idxmax()\n",
    "\n",
    "#find location based on the property_high_count\n",
    "property_location = df[df['property_id'] == property_high_count]['location'].iloc[0]\n",
    "print(f\"Location of Property with highest interaction count: {property_location}\")"
   ]
  },
  {
   "cell_type": "markdown",
   "metadata": {},
   "source": [
    "## ***Question 11***\n",
    "*Create a new column time_category based on the following criteria:*\n",
    "- *`Midnight` for hours between 00:00 and 05:59*\n",
    "- *`Morning` for hours between 06:00 and 11:59*\n",
    "- *`Afternoon` for hours between 12:00 and 17:59*\n",
    "- *`Evening` for hours between 18:00 and 23:59*\n",
    "\n",
    "*After creating the column, identify the most frequent time category.*"
   ]
  },
  {
   "cell_type": "code",
   "execution_count": 90,
   "metadata": {},
   "outputs": [
    {
     "name": "stdout",
     "output_type": "stream",
     "text": [
      "The most frequent time category is: Afternoon\n"
     ]
    }
   ],
   "source": [
    "#convert `request_date` column to datetime and extract hour\n",
    "merged_df['request_date'] = pd.to_datetime(merged_df['request_date'], errors='coerce')\n",
    "merged_df['hour'] = merged_df['request_date'].dt.hour\n",
    "\n",
    "#define conditions for hours category\n",
    "conditions = [\n",
    "    (merged_df['hour'] >= 0) & (merged_df['hour'] <= 5),\n",
    "    (merged_df['hour'] >= 6) & (merged_df['hour'] <= 11),\n",
    "    (merged_df['hour'] >= 12) & (merged_df['hour'] <= 17),\n",
    "    (merged_df['hour'] >= 18) & (merged_df['hour'] <= 23)\n",
    "]\n",
    "categories = ['Midnight', 'Morning', 'Afternoon', 'Evening']\n",
    "\n",
    "#create new column `time_category` based on conditions\n",
    "merged_df['time_category'] = np.select(conditions, categories, default='Unknown')\n",
    "\n",
    "#identify most frequent time category (mode)\n",
    "most_frequent_time_category = merged_df['time_category'].mode()[0]\n",
    "print(f\"The most frequent time category is: {most_frequent_time_category}\")"
   ]
  },
  {
   "cell_type": "markdown",
   "metadata": {},
   "source": [
    "## ***Question 12***\n",
    "*On which dates are the most properties activated on the platform for listing?*"
   ]
  },
  {
   "cell_type": "code",
   "execution_count": 93,
   "metadata": {},
   "outputs": [
    {
     "name": "stdout",
     "output_type": "stream",
     "text": [
      "The date(s) with the most property activations: [datetime.date(2017, 3, 9), datetime.date(2017, 3, 17)]\n",
      "Maximum Interactions: 331\n"
     ]
    }
   ],
   "source": [
    "#convert `activation_date` column to datetime and extract date\n",
    "df['activation_date'] = pd.to_datetime(df['activation_date'], errors='coerce')\n",
    "df['activation_date_only'] = df['activation_date'].dt.date\n",
    "\n",
    "#group by date\n",
    "activation_counts = df.groupby('activation_date_only').size()\n",
    "\n",
    "#count activations and identify maximum size\n",
    "max_activations = activation_counts.max()\n",
    "dates_with_max_activations = activation_counts[activation_counts == max_activations]\n",
    "print(f\"The date(s) with the most property activations: {dates_with_max_activations.index.tolist()}\")\n",
    "print(f\"Maximum Interactions: {max_activations}\")"
   ]
  },
  {
   "cell_type": "markdown",
   "metadata": {},
   "source": [
    "## ***Question 13***\n",
    "*What is the percentage of properties available for lease under the 'Anyone' category?*"
   ]
  },
  {
   "cell_type": "code",
   "execution_count": 100,
   "metadata": {},
   "outputs": [
    {
     "name": "stdout",
     "output_type": "stream",
     "text": [
      "The percentage of properties that anyone can lease: 44.58079160164562\n"
     ]
    }
   ],
   "source": [
    "#find the percentage of lease open to anyone\n",
    "percentage_anyone = (df[df['lease_type'].str.lower() == 'anyone'].shape[0]/df.shape[0])*100\n",
    "print(f\"The percentage of properties that anyone can lease: {percentage_anyone}\")"
   ]
  }
 ],
 "metadata": {
  "kernelspec": {
   "display_name": "myenv",
   "language": "python",
   "name": "myenv"
  },
  "language_info": {
   "codemirror_mode": {
    "name": "ipython",
    "version": 3
   },
   "file_extension": ".py",
   "mimetype": "text/x-python",
   "name": "python",
   "nbconvert_exporter": "python",
   "pygments_lexer": "ipython3",
   "version": "3.12.7"
  }
 },
 "nbformat": 4,
 "nbformat_minor": 4
}
